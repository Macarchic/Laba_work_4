{
 "cells": [
  {
   "cell_type": "markdown",
   "id": "71edd420-04fb-40a0-b53c-d08c971d3a09",
   "metadata": {},
   "source": [
    "**Зчитуємо дані з файла \"4.xyz\" для контроля**"
   ]
  },
  {
   "cell_type": "code",
   "execution_count": 1,
   "id": "66f2cda1-a534-41ac-8b74-169badf50e82",
   "metadata": {},
   "outputs": [],
   "source": [
    "import math\n",
    "import numpy as np\n",
    "import scripts as sc"
   ]
  },
  {
   "cell_type": "code",
   "execution_count": 2,
   "id": "4367b4e9-cb49-4b96-84c6-ebbed964e51e",
   "metadata": {
    "scrolled": true
   },
   "outputs": [
    {
     "name": "stdout",
     "output_type": "stream",
     "text": [
      "[['C', '-0.462015351', '0.180384790', '-1.669886306'], ['C', '0.087116489', '-1.012704479', '-0.864727070'], ['N', '0.140208369', '1.426422525', '-1.171561504'], ['O', '0.867376939', '-1.792613980', '-1.386440435'], ['C', '1.113982046', '1.518238160', '-0.074185217'], ['N', '-0.328537716', '-1.211582184', '0.531188128'], ['C', '-1.389875062', '-0.458085239', '1.216323908'], ['C', '-0.754867801', '0.556394791', '2.185445184']]\n"
     ]
    }
   ],
   "source": [
    "with open(\"4.xyz\", \"r\") as file:\n",
    "    lines = [line.split() for line in file.readlines()[2:]]\n",
    "print(lines)"
   ]
  },
  {
   "cell_type": "markdown",
   "id": "b0fcf403-808f-426c-980c-e68ccc5b2488",
   "metadata": {},
   "source": [
    "**Задаємо базові значення торсійних і валентних кутів(радіани) для знаходження координат та перевірки з контролем**"
   ]
  },
  {
   "cell_type": "code",
   "execution_count": 3,
   "id": "d54af193-7898-4060-b749-58f07bda699c",
   "metadata": {},
   "outputs": [],
   "source": [
    "basic_names = [\"C5\", \"N3\", \"C1\", \"C2\", \"N6\", \"C7\", \"C8\", \"O4\"]\n",
    "atom_coordinates_array = [[\"C\"]+ [0,0,0, 1],[\"N\"] + [0,0,0, 2], [\"C\"]+ [0,0,0, 2],\n",
    "                                     [\"C\"]+ [0,0,0, 3], [\"N\"]+ [0,0,0, 2],\n",
    "                                     [\"C\"]+ [0,0,0, 2], [\"C\"]+ [0,0,0, 1], [\"O\"]+[0,0,0, 1]]\n",
    "valent_angles_array = [125.25*math.pi/180, 109.45*math.pi/180,\n",
    "                       120.02*math.pi/180, 125.24*math.pi/180, 109.45*math.pi/180, 119.96*math.pi/180]\n",
    "\n",
    "tors_angles_array = [-0.063*math.pi/180, 71.581*math.pi/180,\n",
    "                     8.626*math.pi/180, -0.063*math.pi/180, -108.419*math.pi/180]\n",
    "\n",
    "distances_array = [1.470, 1.471, 1.541, 1.470, 1.471, 1.540, 1.22]\n"
   ]
  },
  {
   "cell_type": "code",
   "execution_count": 4,
   "id": "84d323c0-9e46-486b-af7c-5799fc084ae6",
   "metadata": {},
   "outputs": [],
   "source": [
    "alpha_matrixies = [np.array([\n",
    "        [-math.cos(valent_angles_array[i]), -math.sin(valent_angles_array[i]), 0],\n",
    "        [math.sin(valent_angles_array[i]), -math.cos(valent_angles_array[i]), 0],\n",
    "        [0, 0, 1]]) for i in range(len(valent_angles_array))]"
   ]
  },
  {
   "cell_type": "code",
   "execution_count": 5,
   "id": "91e2c001-2c6c-46d1-a0a4-4749aafe3aa4",
   "metadata": {},
   "outputs": [],
   "source": [
    "phi_matrixies =  [[[1, 0, 0], \n",
    "                  [0, math.cos(tors_angles_array[i]), -math.sin(tors_angles_array[i])], \n",
    "                  [0, math.sin(tors_angles_array[i]), math.cos(tors_angles_array[i])]] for i in range(len(tors_angles_array))]"
   ]
  },
  {
   "cell_type": "code",
   "execution_count": 6,
   "id": "f6bf8c46-ddfa-4c8e-9288-c7cc8ed8ed6c",
   "metadata": {},
   "outputs": [],
   "source": [
    "Bj_matrixies_array = [np.array([distances_array[i], 0, 0]) for i in range(len(distances_array))]"
   ]
  },
  {
   "cell_type": "markdown",
   "id": "4a4c7878-1bd2-4313-9dcc-9201e97c9b9b",
   "metadata": {},
   "source": [
    "**Тепер давайте побудуємо молекулу на основі цих матриць задля перевірки нашого кода**"
   ]
  },
  {
   "cell_type": "code",
   "execution_count": 7,
   "id": "a8688b15-56bd-4dac-8216-75f97bdbae27",
   "metadata": {},
   "outputs": [],
   "source": [
    "atom_coordinates_array[0][1:4] = [0,0,0]\n",
    "atom_coordinates_array[1][1:4] = Bj_matrixies_array[0]\n",
    "atom_coordinates_array[2][1:4] = atom_coordinates_array[1][1:4] + np.dot(alpha_matrixies[0], Bj_matrixies_array[1])\n",
    "atom_coordinates_array[3][1:4] = atom_coordinates_array[2][1:4] + np.dot(np.dot(np.dot(alpha_matrixies[0], phi_matrixies[0]), alpha_matrixies[1]), Bj_matrixies_array[2])\n",
    "temp = []\n",
    "temp.append(np.dot(np.dot(alpha_matrixies[0], phi_matrixies[0]), alpha_matrixies[1]))\n",
    "atom_coordinates_array[4][1:4] = atom_coordinates_array[3][1:4] + np.dot(np.dot(np.dot(temp[0], phi_matrixies[1]), alpha_matrixies[2]), Bj_matrixies_array[3])\n",
    "temp.append(np.dot(np.dot(temp[0], phi_matrixies[1]), alpha_matrixies[2]))\n",
    "atom_coordinates_array[5][1:4] = atom_coordinates_array[4][1:4] + np.dot(np.dot(np.dot(temp[1], phi_matrixies[2]), alpha_matrixies[3]), Bj_matrixies_array[4])\n",
    "temp.append(np.dot(np.dot(temp[1], phi_matrixies[2]), alpha_matrixies[3]))\n",
    "atom_coordinates_array[6][1:4] = atom_coordinates_array[5][1:4] + np.dot(np.dot(np.dot(temp[2], phi_matrixies[3]), alpha_matrixies[4]), Bj_matrixies_array[5])\n",
    "temp.append(np.dot(np.dot(temp[2], phi_matrixies[3]), alpha_matrixies[4]))\n",
    "atom_coordinates_array[7][1:4] = atom_coordinates_array[3][1:4] + np.dot(np.dot(np.dot(temp[0], phi_matrixies[4]), alpha_matrixies[5]), Bj_matrixies_array[6])"
   ]
  },
  {
   "cell_type": "markdown",
   "id": "dce72fab-21a9-4397-ac2b-fcbe36548d48",
   "metadata": {},
   "source": [
    "**Виводимо дані у файл, який відкриваємо наприклад у PyMol та звіряємо зв'язки з кутами між атомами**"
   ]
  },
  {
   "cell_type": "code",
   "execution_count": 8,
   "id": "3d482dd7-4ede-4272-835b-933f9d313784",
   "metadata": {},
   "outputs": [],
   "source": [
    "with open(\"results_of_laba4.pdb\", \"w\") as file:\n",
    "    \n",
    "    for i in range(0, 8):\n",
    "        atom = atom_coordinates_array[i]\n",
    "        spaces = ' ' * (4 - len(str(i)))\n",
    "        file.write(f\"ATOM    {i+1}    {atom[0]}{' ' * (5 - len(atom[0]))}AA   1      {'   '.join([f'{element:.4f}' if element >= 0 else f'{element:.3f}' for element in atom[1:4]])}   1.00 0.00           {basic_names[i]}\\n\")"
   ]
  },
  {
   "cell_type": "markdown",
   "id": "af1570a0-b1e4-4448-bef7-eb77007995d5",
   "metadata": {},
   "source": [
    "**Так, алгоритм будує молекулу майже досконально!\n",
    "Тому зараз робимо цикл, де будемо змінювати кути фі та псі і оцінювати молекулу(чи зберігається та сама структура чи ні)**"
   ]
  },
  {
   "cell_type": "code",
   "execution_count": 26,
   "id": "5f1f77d0-e454-4d87-b8be-8f6dd50401af",
   "metadata": {},
   "outputs": [],
   "source": [
    "basic_names = [\"C5\", \"N3\", \"C1\", \"C2\", \"N6\", \"C7\", \"C8\", \"O4\"]\n",
    "atom_coordinates_array = [[\"C\"]+ [0,0,0, 1],[\"N\"] + [0,0,0, 2], [\"C\"]+ [0,0,0, 2],\n",
    "                                     [\"C\"]+ [0,0,0, 3], [\"N\"]+ [0,0,0, 2],\n",
    "                                     [\"C\"]+ [0,0,0, 2], [\"C\"]+ [0,0,0, 1], [\"O\"]+[0,0,0, 1]]\n",
    "valent_angles_array = [125.25*math.pi/180, 109.45*math.pi/180,\n",
    "                       120.02*math.pi/180, 125.24*math.pi/180, 109.45*math.pi/180, 119.96*math.pi/180]\n",
    "distances_array = [1.470, 1.471, 1.541, 1.470, 1.471, 1.540, 1.22]\n",
    "alpha_matrixies = [np.array([\n",
    "        [-math.cos(valent_angles_array[i]), -math.sin(valent_angles_array[i]), 0],\n",
    "        [math.sin(valent_angles_array[i]), -math.cos(valent_angles_array[i]), 0],\n",
    "        [0, 0, 1]]) for i in range(len(valent_angles_array))]\n",
    "Bj_matrixies_array = [np.array([distances_array[i], 0, 0]) for i in range(len(distances_array))]\n",
    "\n",
    "with open(\"test_laba4.txt\", \"w\") as file:\n",
    "\n",
    "    for i in range(-180,180):\n",
    "        for q in range(-180, 180):\n",
    "            tors_angles_array = [-0.063*math.pi/180, i*math.pi/180,\n",
    "                                 q*math.pi/180, -0.063*math.pi/180, -108.419*math.pi/180]\n",
    "            phi_matrixies =  [[[1, 0, 0], \n",
    "                      [0, math.cos(tors_angles_array[i]), -math.sin(tors_angles_array[i])], \n",
    "                      [0, math.sin(tors_angles_array[i]), math.cos(tors_angles_array[i])]] for i in range(len(tors_angles_array))]\n",
    "    \n",
    "            atom_coordinates_array[0][1:4] = [0,0,0]\n",
    "            atom_coordinates_array[1][1:4] = Bj_matrixies_array[0]\n",
    "            atom_coordinates_array[2][1:4] = atom_coordinates_array[1][1:4] + np.dot(alpha_matrixies[0], Bj_matrixies_array[1])\n",
    "            atom_coordinates_array[3][1:4] = atom_coordinates_array[2][1:4] + np.dot(np.dot(np.dot(alpha_matrixies[0], phi_matrixies[0]), alpha_matrixies[1]), Bj_matrixies_array[2])\n",
    "            temp = []\n",
    "            temp.append(np.dot(np.dot(alpha_matrixies[0], phi_matrixies[0]), alpha_matrixies[1]))\n",
    "            atom_coordinates_array[4][1:4] = atom_coordinates_array[3][1:4] + np.dot(np.dot(np.dot(temp[0], phi_matrixies[1]), alpha_matrixies[2]), Bj_matrixies_array[3])\n",
    "            temp.append(np.dot(np.dot(temp[0], phi_matrixies[1]), alpha_matrixies[2]))\n",
    "            atom_coordinates_array[5][1:4] = atom_coordinates_array[4][1:4] + np.dot(np.dot(np.dot(temp[1], phi_matrixies[2]), alpha_matrixies[3]), Bj_matrixies_array[4])\n",
    "            temp.append(np.dot(np.dot(temp[1], phi_matrixies[2]), alpha_matrixies[3]))\n",
    "            atom_coordinates_array[6][1:4] = atom_coordinates_array[5][1:4] + np.dot(np.dot(np.dot(temp[2], phi_matrixies[3]), alpha_matrixies[4]), Bj_matrixies_array[5])\n",
    "            temp.append(np.dot(np.dot(temp[2], phi_matrixies[3]), alpha_matrixies[4]))\n",
    "            atom_coordinates_array[7][1:4] = atom_coordinates_array[3][1:4] + np.dot(np.dot(np.dot(temp[0], phi_matrixies[4]), alpha_matrixies[5]), Bj_matrixies_array[6])\n",
    "            check = sc.connection_checker(atom_coordinates_array[0], atom_coordinates_array[6])\n",
    "            if check[0] == \"0\":\n",
    "                file.write(f'{i} {q} 0 {check[1]}\\n')\n",
    "            else:\n",
    "                file.write(f'{i} {q} 1 {check[1]}\\n')"
   ]
  },
  {
   "cell_type": "markdown",
   "id": "867fcc66-8197-4cbe-9f2a-77587a92ef10",
   "metadata": {},
   "source": [
    "**Виводимо результат**"
   ]
  },
  {
   "cell_type": "code",
   "execution_count": 34,
   "id": "48eddba2-4ca2-4cff-84b3-1ce71d963dbb",
   "metadata": {},
   "outputs": [
    {
     "data": {
      "image/png": "[encoded data removed]",
      "text/plain": [
       "<Figure size 640x480 with 1 Axes>"
      ]
     },
     "metadata": {},
     "output_type": "display_data"
    }
   ],
   "source": [
    "import matplotlib.pyplot as plt\n",
    "\n",
    "# Чтение файла и извлечение данных\n",
    "with open(\"test_laba4.txt\", \"r\") as file:\n",
    "    data = [line.split() for line in file]\n",
    "\n",
    "# Разделение данных на списки углов и результатов\n",
    "phis = []\n",
    "psis = []\n",
    "for num in range(len(data)):\n",
    "    if data[num][2] == '1':\n",
    "        phis.append(data[num][0])\n",
    "        psis.append(data[num][1])\n",
    "\n",
    "# Построение графика\n",
    "plt.scatter(phis, psis, color='black', label='True')\n",
    "plt.xlabel('Phi')\n",
    "plt.ylabel('Psi')\n",
    "plt.title('Phi vs Psi')\n",
    "plt.legend(loc = 1)\n",
    "plt.show()"
   ]
  }
 ],
 "metadata": {
  "kernelspec": {
   "display_name": "Python 3 (ipykernel)",
   "language": "python",
   "name": "python3"
  },
  "language_info": {
   "codemirror_mode": {
    "name": "ipython",
    "version": 3
   },
   "file_extension": ".py",
   "mimetype": "text/x-python",
   "name": "python",
   "nbconvert_exporter": "python",
   "pygments_lexer": "ipython3",
   "version": "3.11.7"
  }
 },
 "nbformat": 4,
 "nbformat_minor": 5
}
